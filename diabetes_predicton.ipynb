{
  "nbformat": 4,
  "nbformat_minor": 0,
  "metadata": {
    "colab": {
      "name": "diabetes_predicton.ipynb",
      "provenance": []
    },
    "kernelspec": {
      "name": "python3",
      "display_name": "Python 3"
    }
  },
  "cells": [
    {
      "cell_type": "code",
      "metadata": {
        "id": "eHtgKO_zXdtE",
        "colab_type": "code",
        "colab": {
          "base_uri": "https://localhost:8080/",
          "height": 238
        },
        "outputId": "15321caf-bda7-4564-f7c9-9b71f65fa880"
      },
      "source": [
        "! pip install pyspark"
      ],
      "execution_count": 1,
      "outputs": [
        {
          "output_type": "stream",
          "text": [
            "Collecting pyspark\n",
            "\u001b[?25l  Downloading https://files.pythonhosted.org/packages/8e/b0/bf9020b56492281b9c9d8aae8f44ff51e1bc91b3ef5a884385cb4e389a40/pyspark-3.0.0.tar.gz (204.7MB)\n",
            "\u001b[K     |████████████████████████████████| 204.7MB 63kB/s \n",
            "\u001b[?25hCollecting py4j==0.10.9\n",
            "\u001b[?25l  Downloading https://files.pythonhosted.org/packages/9e/b6/6a4fb90cd235dc8e265a6a2067f2a2c99f0d91787f06aca4bcf7c23f3f80/py4j-0.10.9-py2.py3-none-any.whl (198kB)\n",
            "\u001b[K     |████████████████████████████████| 204kB 42.6MB/s \n",
            "\u001b[?25hBuilding wheels for collected packages: pyspark\n",
            "  Building wheel for pyspark (setup.py) ... \u001b[?25l\u001b[?25hdone\n",
            "  Created wheel for pyspark: filename=pyspark-3.0.0-py2.py3-none-any.whl size=205044184 sha256=72d5888560d5d7d45e7088b5b6b3ecdd5e1766f22c428761267513b4e2fdef1e\n",
            "  Stored in directory: /root/.cache/pip/wheels/57/27/4d/ddacf7143f8d5b76c45c61ee2e43d9f8492fc5a8e78ebd7d37\n",
            "Successfully built pyspark\n",
            "Installing collected packages: py4j, pyspark\n",
            "Successfully installed py4j-0.10.9 pyspark-3.0.0\n"
          ],
          "name": "stdout"
        }
      ]
    },
    {
      "cell_type": "code",
      "metadata": {
        "id": "ROG5naoEYWky",
        "colab_type": "code",
        "colab": {}
      },
      "source": [
        "from pyspark.sql import SparkSession\n",
        "\n",
        "spark=SparkSession.builder.appName(\"spark\").getOrCreate()"
      ],
      "execution_count": 8,
      "outputs": []
    },
    {
      "cell_type": "markdown",
      "metadata": {
        "id": "4q3n7YcbZ_Hx",
        "colab_type": "text"
      },
      "source": [
        "# **Clone Diabetes Datasets**"
      ]
    },
    {
      "cell_type": "code",
      "metadata": {
        "id": "RlUOur7yaIwe",
        "colab_type": "code",
        "colab": {
          "base_uri": "https://localhost:8080/",
          "height": 119
        },
        "outputId": "4b774ce4-fa4d-4423-d715-66e72b9d1661"
      },
      "source": [
        "! git clone https://github.com/education454/diabetes_dataset"
      ],
      "execution_count": 9,
      "outputs": [
        {
          "output_type": "stream",
          "text": [
            "Cloning into 'diabetes_dataset'...\n",
            "remote: Enumerating objects: 6, done.\u001b[K\n",
            "remote: Counting objects: 100% (6/6), done.\u001b[K\n",
            "remote: Compressing objects: 100% (5/5), done.\u001b[K\n",
            "remote: Total 6 (delta 0), reused 0 (delta 0), pack-reused 0\u001b[K\n",
            "Unpacking objects: 100% (6/6), done.\n"
          ],
          "name": "stdout"
        }
      ]
    },
    {
      "cell_type": "code",
      "metadata": {
        "id": "vSBLqS7oanAd",
        "colab_type": "code",
        "colab": {
          "base_uri": "https://localhost:8080/",
          "height": 34
        },
        "outputId": "3fd7a158-54de-4634-f452-ed58c0232ef4"
      },
      "source": [
        "! ls diabetes_dataset"
      ],
      "execution_count": 10,
      "outputs": [
        {
          "output_type": "stream",
          "text": [
            "diabetes.csv  new_test.csv\n"
          ],
          "name": "stdout"
        }
      ]
    },
    {
      "cell_type": "code",
      "metadata": {
        "id": "YLeratuOa2e5",
        "colab_type": "code",
        "colab": {}
      },
      "source": [
        "df= spark.read.csv('/content/diabetes_dataset/diabetes.csv',header=True,inferSchema=True)"
      ],
      "execution_count": 11,
      "outputs": []
    },
    {
      "cell_type": "code",
      "metadata": {
        "id": "uEdOpmBlbpR3",
        "colab_type": "code",
        "colab": {
          "base_uri": "https://localhost:8080/",
          "height": 459
        },
        "outputId": "2210bdac-be9f-4c2e-d57e-057f0a07a9fd"
      },
      "source": [
        "df.show()"
      ],
      "execution_count": 12,
      "outputs": [
        {
          "output_type": "stream",
          "text": [
            "+-----------+-------+-------------+-------------+-------+----+------------------------+---+-------+\n",
            "|Pregnancies|Glucose|BloodPressure|SkinThickness|Insulin| BMI|DiabetesPedigreeFunction|Age|Outcome|\n",
            "+-----------+-------+-------------+-------------+-------+----+------------------------+---+-------+\n",
            "|          2|    138|           62|           35|      0|33.6|                   0.127| 47|      1|\n",
            "|          0|     84|           82|           31|    125|38.2|                   0.233| 23|      0|\n",
            "|          0|    145|            0|            0|      0|44.2|                    0.63| 31|      1|\n",
            "|          0|    135|           68|           42|    250|42.3|                   0.365| 24|      1|\n",
            "|          1|    139|           62|           41|    480|40.7|                   0.536| 21|      0|\n",
            "|          0|    173|           78|           32|    265|46.5|                   1.159| 58|      0|\n",
            "|          4|     99|           72|           17|      0|25.6|                   0.294| 28|      0|\n",
            "|          8|    194|           80|            0|      0|26.1|                   0.551| 67|      0|\n",
            "|          2|     83|           65|           28|     66|36.8|                   0.629| 24|      0|\n",
            "|          2|     89|           90|           30|      0|33.5|                   0.292| 42|      0|\n",
            "|          4|     99|           68|           38|      0|32.8|                   0.145| 33|      0|\n",
            "|          4|    125|           70|           18|    122|28.9|                   1.144| 45|      1|\n",
            "|          3|     80|            0|            0|      0| 0.0|                   0.174| 22|      0|\n",
            "|          6|    166|           74|            0|      0|26.6|                   0.304| 66|      0|\n",
            "|          5|    110|           68|            0|      0|26.0|                   0.292| 30|      0|\n",
            "|          2|     81|           72|           15|     76|30.1|                   0.547| 25|      0|\n",
            "|          7|    195|           70|           33|    145|25.1|                   0.163| 55|      1|\n",
            "|          6|    154|           74|           32|    193|29.3|                   0.839| 39|      0|\n",
            "|          2|    117|           90|           19|     71|25.2|                   0.313| 21|      0|\n",
            "|          3|     84|           72|           32|      0|37.2|                   0.267| 28|      0|\n",
            "+-----------+-------+-------------+-------------+-------+----+------------------------+---+-------+\n",
            "only showing top 20 rows\n",
            "\n"
          ],
          "name": "stdout"
        }
      ]
    },
    {
      "cell_type": "code",
      "metadata": {
        "id": "QkOVERVzbwSj",
        "colab_type": "code",
        "colab": {
          "base_uri": "https://localhost:8080/",
          "height": 204
        },
        "outputId": "f1d21c61-5a48-4f28-f4b9-d8d5a87d1dae"
      },
      "source": [
        "df.printSchema()"
      ],
      "execution_count": 13,
      "outputs": [
        {
          "output_type": "stream",
          "text": [
            "root\n",
            " |-- Pregnancies: integer (nullable = true)\n",
            " |-- Glucose: integer (nullable = true)\n",
            " |-- BloodPressure: integer (nullable = true)\n",
            " |-- SkinThickness: integer (nullable = true)\n",
            " |-- Insulin: integer (nullable = true)\n",
            " |-- BMI: double (nullable = true)\n",
            " |-- DiabetesPedigreeFunction: double (nullable = true)\n",
            " |-- Age: integer (nullable = true)\n",
            " |-- Outcome: integer (nullable = true)\n",
            "\n"
          ],
          "name": "stdout"
        }
      ]
    },
    {
      "cell_type": "code",
      "metadata": {
        "id": "LWLUSmZbb7dA",
        "colab_type": "code",
        "colab": {
          "base_uri": "https://localhost:8080/",
          "height": 34
        },
        "outputId": "43b6766d-dbac-4c3b-c763-7f1bb02b16ee"
      },
      "source": [
        "print(df.count(),len(df.columns))"
      ],
      "execution_count": 14,
      "outputs": [
        {
          "output_type": "stream",
          "text": [
            "2000 9\n"
          ],
          "name": "stdout"
        }
      ]
    },
    {
      "cell_type": "code",
      "metadata": {
        "id": "OXGQN_GmcPDO",
        "colab_type": "code",
        "colab": {
          "base_uri": "https://localhost:8080/",
          "height": 136
        },
        "outputId": "d1a398dd-1d2e-429b-cda7-ce4af73a6571"
      },
      "source": [
        "df.groupby('Outcome').count().show()"
      ],
      "execution_count": 15,
      "outputs": [
        {
          "output_type": "stream",
          "text": [
            "+-------+-----+\n",
            "|Outcome|count|\n",
            "+-------+-----+\n",
            "|      1|  684|\n",
            "|      0| 1316|\n",
            "+-------+-----+\n",
            "\n"
          ],
          "name": "stdout"
        }
      ]
    },
    {
      "cell_type": "code",
      "metadata": {
        "id": "IIbg-gRZccBZ",
        "colab_type": "code",
        "colab": {
          "base_uri": "https://localhost:8080/",
          "height": 207
        },
        "outputId": "fbd36619-4c4c-4eae-ef45-f3aadad68404"
      },
      "source": [
        "df.describe().show()"
      ],
      "execution_count": 16,
      "outputs": [
        {
          "output_type": "stream",
          "text": [
            "+-------+-----------------+------------------+------------------+-----------------+-----------------+------------------+------------------------+------------------+------------------+\n",
            "|summary|      Pregnancies|           Glucose|     BloodPressure|    SkinThickness|          Insulin|               BMI|DiabetesPedigreeFunction|               Age|           Outcome|\n",
            "+-------+-----------------+------------------+------------------+-----------------+-----------------+------------------+------------------------+------------------+------------------+\n",
            "|  count|             2000|              2000|              2000|             2000|             2000|              2000|                    2000|              2000|              2000|\n",
            "|   mean|           3.7035|          121.1825|           69.1455|           20.935|           80.254|32.192999999999984|     0.47092999999999974|           33.0905|             0.342|\n",
            "| stddev|3.306063032730656|32.068635649902916|19.188314815604098|16.10324290992682|111.1805335457595| 8.149900701279762|      0.3235525586811429|11.786423106049496|0.4744982342297426|\n",
            "|    min|                0|                 0|                 0|                0|                0|               0.0|                   0.078|                21|                 0|\n",
            "|    max|               17|               199|               122|              110|              744|              80.6|                    2.42|                81|                 1|\n",
            "+-------+-----------------+------------------+------------------+-----------------+-----------------+------------------+------------------------+------------------+------------------+\n",
            "\n"
          ],
          "name": "stdout"
        }
      ]
    },
    {
      "cell_type": "markdown",
      "metadata": {
        "id": "QUVangvKc8tk",
        "colab_type": "text"
      },
      "source": [
        "# Cleaning Data "
      ]
    },
    {
      "cell_type": "code",
      "metadata": {
        "id": "lT1CPsqidLRG",
        "colab_type": "code",
        "colab": {
          "base_uri": "https://localhost:8080/",
          "height": 170
        },
        "outputId": "4a756c80-b6fa-4f5e-e7de-b24ceaf04820"
      },
      "source": [
        "# find for null values \n",
        "for col in df.columns:\n",
        "  print(col+\":\",df[df[col].isNull()].count())"
      ],
      "execution_count": 17,
      "outputs": [
        {
          "output_type": "stream",
          "text": [
            "Pregnancies: 0\n",
            "Glucose: 0\n",
            "BloodPressure: 0\n",
            "SkinThickness: 0\n",
            "Insulin: 0\n",
            "BMI: 0\n",
            "DiabetesPedigreeFunction: 0\n",
            "Age: 0\n",
            "Outcome: 0\n"
          ],
          "name": "stdout"
        }
      ]
    },
    {
      "cell_type": "code",
      "metadata": {
        "id": "z3wuUhdAdq7d",
        "colab_type": "code",
        "colab": {}
      },
      "source": [
        "# find total number of 0 values in columns: Glucose,Bloodpressure, Skinthickness,Insulin and BMI \n",
        "def count_zeros():\n",
        "  columns_list=['Glucose','BloodPressure','SkinThickness','Insulin','BMI']\n",
        "  for i in columns_list:\n",
        "    print(i+\":\",df[df[i]==0].count())"
      ],
      "execution_count": 18,
      "outputs": []
    },
    {
      "cell_type": "code",
      "metadata": {
        "id": "DBIRXMyXeqp5",
        "colab_type": "code",
        "colab": {
          "base_uri": "https://localhost:8080/",
          "height": 102
        },
        "outputId": "fb9debd1-deeb-4a52-e75f-d38a4af8ba5c"
      },
      "source": [
        "count_zeros()"
      ],
      "execution_count": 19,
      "outputs": [
        {
          "output_type": "stream",
          "text": [
            "Glucose: 13\n",
            "BloodPressure: 90\n",
            "SkinThickness: 573\n",
            "Insulin: 956\n",
            "BMI: 28\n"
          ],
          "name": "stdout"
        }
      ]
    },
    {
      "cell_type": "code",
      "metadata": {
        "id": "_Il5yEhGe6Uf",
        "colab_type": "code",
        "colab": {
          "base_uri": "https://localhost:8080/",
          "height": 102
        },
        "outputId": "569e5d12-f5b5-4cca-b237-c45e333fe0c0"
      },
      "source": [
        "from pyspark.sql.functions import *\n",
        "for i in df.columns[1:6]:\n",
        "  data=df.agg({i:'mean'}).first()[0]\n",
        "  print(\"Mean value for {} is {}\".format(i,int(data)))\n",
        "  df=df.withColumn(i,when(df[i]==0,int(data)).otherwise(df[i]))"
      ],
      "execution_count": 21,
      "outputs": [
        {
          "output_type": "stream",
          "text": [
            "Mean value for Glucose is 121\n",
            "Mean value for BloodPressure is 69\n",
            "Mean value for SkinThickness is 20\n",
            "Mean value for Insulin is 80\n",
            "Mean value for BMI is 32\n"
          ],
          "name": "stdout"
        }
      ]
    },
    {
      "cell_type": "code",
      "metadata": {
        "id": "j5jgzsFGgGaT",
        "colab_type": "code",
        "colab": {
          "base_uri": "https://localhost:8080/",
          "height": 459
        },
        "outputId": "b9bd5691-b1b8-4646-f404-5d18becf3ae4"
      },
      "source": [
        "df.show()"
      ],
      "execution_count": 22,
      "outputs": [
        {
          "output_type": "stream",
          "text": [
            "+-----------+-------+-------------+-------------+-------+----+------------------------+---+-------+\n",
            "|Pregnancies|Glucose|BloodPressure|SkinThickness|Insulin| BMI|DiabetesPedigreeFunction|Age|Outcome|\n",
            "+-----------+-------+-------------+-------------+-------+----+------------------------+---+-------+\n",
            "|          2|    138|           62|           35|     80|33.6|                   0.127| 47|      1|\n",
            "|          0|     84|           82|           31|    125|38.2|                   0.233| 23|      0|\n",
            "|          0|    145|           69|           20|     80|44.2|                    0.63| 31|      1|\n",
            "|          0|    135|           68|           42|    250|42.3|                   0.365| 24|      1|\n",
            "|          1|    139|           62|           41|    480|40.7|                   0.536| 21|      0|\n",
            "|          0|    173|           78|           32|    265|46.5|                   1.159| 58|      0|\n",
            "|          4|     99|           72|           17|     80|25.6|                   0.294| 28|      0|\n",
            "|          8|    194|           80|           20|     80|26.1|                   0.551| 67|      0|\n",
            "|          2|     83|           65|           28|     66|36.8|                   0.629| 24|      0|\n",
            "|          2|     89|           90|           30|     80|33.5|                   0.292| 42|      0|\n",
            "|          4|     99|           68|           38|     80|32.8|                   0.145| 33|      0|\n",
            "|          4|    125|           70|           18|    122|28.9|                   1.144| 45|      1|\n",
            "|          3|     80|           69|           20|     80|32.0|                   0.174| 22|      0|\n",
            "|          6|    166|           74|           20|     80|26.6|                   0.304| 66|      0|\n",
            "|          5|    110|           68|           20|     80|26.0|                   0.292| 30|      0|\n",
            "|          2|     81|           72|           15|     76|30.1|                   0.547| 25|      0|\n",
            "|          7|    195|           70|           33|    145|25.1|                   0.163| 55|      1|\n",
            "|          6|    154|           74|           32|    193|29.3|                   0.839| 39|      0|\n",
            "|          2|    117|           90|           19|     71|25.2|                   0.313| 21|      0|\n",
            "|          3|     84|           72|           32|     80|37.2|                   0.267| 28|      0|\n",
            "+-----------+-------+-------------+-------------+-------+----+------------------------+---+-------+\n",
            "only showing top 20 rows\n",
            "\n"
          ],
          "name": "stdout"
        }
      ]
    },
    {
      "cell_type": "code",
      "metadata": {
        "id": "c_Jcc2SCgv72",
        "colab_type": "code",
        "colab": {
          "base_uri": "https://localhost:8080/",
          "height": 170
        },
        "outputId": "6c811ee3-6df4-4a4d-98c5-623cb520ae44"
      },
      "source": [
        "for col in df.columns:\n",
        "  print(\"correlation to outcomes for {} is {}\".format(col,df.stat.corr('Outcome',col)))"
      ],
      "execution_count": 23,
      "outputs": [
        {
          "output_type": "stream",
          "text": [
            "correlation to outcomes for Pregnancies is 0.22443699263363961\n",
            "correlation to outcomes for Glucose is 0.48796646527321064\n",
            "correlation to outcomes for BloodPressure is 0.17171333286446713\n",
            "correlation to outcomes for SkinThickness is 0.1659010662889893\n",
            "correlation to outcomes for Insulin is 0.1711763270226193\n",
            "correlation to outcomes for BMI is 0.2827927569760082\n",
            "correlation to outcomes for DiabetesPedigreeFunction is 0.1554590791569403\n",
            "correlation to outcomes for Age is 0.23650924717620253\n",
            "correlation to outcomes for Outcome is 1.0\n"
          ],
          "name": "stdout"
        }
      ]
    },
    {
      "cell_type": "code",
      "metadata": {
        "id": "mbSNfFJAhQkF",
        "colab_type": "code",
        "colab": {}
      },
      "source": [
        "from pyspark.ml.feature import VectorAssembler  # features transformer multiple columns into vector columns \n",
        "assembler = VectorAssembler(inputCols=['Pregnancies','Glucose','BloodPressure','SkinThickness','Insulin','BMI','DiabetesPedigreeFunction','Age'],outputCol='features')\n",
        "output_data=assembler.transform(df)"
      ],
      "execution_count": 27,
      "outputs": []
    },
    {
      "cell_type": "code",
      "metadata": {
        "id": "t4W8kxCKjXg0",
        "colab_type": "code",
        "colab": {
          "base_uri": "https://localhost:8080/",
          "height": 221
        },
        "outputId": "e14ad971-af31-494b-9b05-54685c9e1dad"
      },
      "source": [
        "output_data.printSchema()"
      ],
      "execution_count": 28,
      "outputs": [
        {
          "output_type": "stream",
          "text": [
            "root\n",
            " |-- Pregnancies: integer (nullable = true)\n",
            " |-- Glucose: integer (nullable = true)\n",
            " |-- BloodPressure: integer (nullable = true)\n",
            " |-- SkinThickness: integer (nullable = true)\n",
            " |-- Insulin: integer (nullable = true)\n",
            " |-- BMI: double (nullable = true)\n",
            " |-- DiabetesPedigreeFunction: double (nullable = true)\n",
            " |-- Age: integer (nullable = true)\n",
            " |-- Outcome: integer (nullable = true)\n",
            " |-- features: vector (nullable = true)\n",
            "\n"
          ],
          "name": "stdout"
        }
      ]
    },
    {
      "cell_type": "code",
      "metadata": {
        "id": "TIrnSLPBjwDX",
        "colab_type": "code",
        "colab": {
          "base_uri": "https://localhost:8080/",
          "height": 459
        },
        "outputId": "622039f8-2acd-4d7f-ebc0-aa906f490d3a"
      },
      "source": [
        "output_data.show()"
      ],
      "execution_count": 29,
      "outputs": [
        {
          "output_type": "stream",
          "text": [
            "+-----------+-------+-------------+-------------+-------+----+------------------------+---+-------+--------------------+\n",
            "|Pregnancies|Glucose|BloodPressure|SkinThickness|Insulin| BMI|DiabetesPedigreeFunction|Age|Outcome|            features|\n",
            "+-----------+-------+-------------+-------------+-------+----+------------------------+---+-------+--------------------+\n",
            "|          2|    138|           62|           35|     80|33.6|                   0.127| 47|      1|[2.0,138.0,62.0,3...|\n",
            "|          0|     84|           82|           31|    125|38.2|                   0.233| 23|      0|[0.0,84.0,82.0,31...|\n",
            "|          0|    145|           69|           20|     80|44.2|                    0.63| 31|      1|[0.0,145.0,69.0,2...|\n",
            "|          0|    135|           68|           42|    250|42.3|                   0.365| 24|      1|[0.0,135.0,68.0,4...|\n",
            "|          1|    139|           62|           41|    480|40.7|                   0.536| 21|      0|[1.0,139.0,62.0,4...|\n",
            "|          0|    173|           78|           32|    265|46.5|                   1.159| 58|      0|[0.0,173.0,78.0,3...|\n",
            "|          4|     99|           72|           17|     80|25.6|                   0.294| 28|      0|[4.0,99.0,72.0,17...|\n",
            "|          8|    194|           80|           20|     80|26.1|                   0.551| 67|      0|[8.0,194.0,80.0,2...|\n",
            "|          2|     83|           65|           28|     66|36.8|                   0.629| 24|      0|[2.0,83.0,65.0,28...|\n",
            "|          2|     89|           90|           30|     80|33.5|                   0.292| 42|      0|[2.0,89.0,90.0,30...|\n",
            "|          4|     99|           68|           38|     80|32.8|                   0.145| 33|      0|[4.0,99.0,68.0,38...|\n",
            "|          4|    125|           70|           18|    122|28.9|                   1.144| 45|      1|[4.0,125.0,70.0,1...|\n",
            "|          3|     80|           69|           20|     80|32.0|                   0.174| 22|      0|[3.0,80.0,69.0,20...|\n",
            "|          6|    166|           74|           20|     80|26.6|                   0.304| 66|      0|[6.0,166.0,74.0,2...|\n",
            "|          5|    110|           68|           20|     80|26.0|                   0.292| 30|      0|[5.0,110.0,68.0,2...|\n",
            "|          2|     81|           72|           15|     76|30.1|                   0.547| 25|      0|[2.0,81.0,72.0,15...|\n",
            "|          7|    195|           70|           33|    145|25.1|                   0.163| 55|      1|[7.0,195.0,70.0,3...|\n",
            "|          6|    154|           74|           32|    193|29.3|                   0.839| 39|      0|[6.0,154.0,74.0,3...|\n",
            "|          2|    117|           90|           19|     71|25.2|                   0.313| 21|      0|[2.0,117.0,90.0,1...|\n",
            "|          3|     84|           72|           32|     80|37.2|                   0.267| 28|      0|[3.0,84.0,72.0,32...|\n",
            "+-----------+-------+-------------+-------------+-------+----+------------------------+---+-------+--------------------+\n",
            "only showing top 20 rows\n",
            "\n"
          ],
          "name": "stdout"
        }
      ]
    },
    {
      "cell_type": "code",
      "metadata": {
        "id": "WNjerxWMj5Z9",
        "colab_type": "code",
        "colab": {}
      },
      "source": [
        "from pyspark.ml.classification import LogisticRegression \n",
        "final_data = output_data.select('features','Outcome')"
      ],
      "execution_count": 30,
      "outputs": []
    },
    {
      "cell_type": "code",
      "metadata": {
        "id": "3JGtVcb4kg1u",
        "colab_type": "code",
        "colab": {
          "base_uri": "https://localhost:8080/",
          "height": 85
        },
        "outputId": "e7b5d301-65d4-4854-e0c0-90d729db5475"
      },
      "source": [
        "final_data.printSchema()"
      ],
      "execution_count": 31,
      "outputs": [
        {
          "output_type": "stream",
          "text": [
            "root\n",
            " |-- features: vector (nullable = true)\n",
            " |-- Outcome: integer (nullable = true)\n",
            "\n"
          ],
          "name": "stdout"
        }
      ]
    },
    {
      "cell_type": "code",
      "metadata": {
        "id": "2L_rvvuwkor0",
        "colab_type": "code",
        "colab": {}
      },
      "source": [
        "train, test = final_data.randomSplit([0.7,0.3])\n",
        "models = LogisticRegression(labelCol='Outcome')\n",
        "model = models.fit(train)\n"
      ],
      "execution_count": 32,
      "outputs": []
    },
    {
      "cell_type": "code",
      "metadata": {
        "id": "UGqa2DOblLAp",
        "colab_type": "code",
        "colab": {}
      },
      "source": [
        "summary = model.summary"
      ],
      "execution_count": 34,
      "outputs": []
    },
    {
      "cell_type": "code",
      "metadata": {
        "id": "p1pUzToOlVbB",
        "colab_type": "code",
        "colab": {
          "base_uri": "https://localhost:8080/",
          "height": 187
        },
        "outputId": "e6dd2bb4-d990-4ac5-87a4-882d2950deec"
      },
      "source": [
        "summary.predictions.describe().show()"
      ],
      "execution_count": 35,
      "outputs": [
        {
          "output_type": "stream",
          "text": [
            "+-------+-------------------+-------------------+\n",
            "|summary|            Outcome|         prediction|\n",
            "+-------+-------------------+-------------------+\n",
            "|  count|               1431|               1431|\n",
            "|   mean| 0.3284416491963662| 0.2389937106918239|\n",
            "| stddev|0.46981057399653836|0.42661798222487035|\n",
            "|    min|                0.0|                0.0|\n",
            "|    max|                1.0|                1.0|\n",
            "+-------+-------------------+-------------------+\n",
            "\n"
          ],
          "name": "stdout"
        }
      ]
    },
    {
      "cell_type": "markdown",
      "metadata": {
        "id": "4ySEj5-3nxcG",
        "colab_type": "text"
      },
      "source": [
        "# Evaluation & Test Model \n"
      ]
    },
    {
      "cell_type": "code",
      "metadata": {
        "id": "4dvFUhkVoNfT",
        "colab_type": "code",
        "colab": {}
      },
      "source": [
        "from pyspark.ml.evaluation import BinaryClassificationEvaluator\n",
        "predictions=model.evaluate(test)"
      ],
      "execution_count": 36,
      "outputs": []
    },
    {
      "cell_type": "code",
      "metadata": {
        "id": "MMe6iJH9pmXO",
        "colab_type": "code",
        "colab": {
          "base_uri": "https://localhost:8080/",
          "height": 969
        },
        "outputId": "80f24571-2cc0-4195-ba2e-dde8833a0264"
      },
      "source": [
        "predictions.predictions.show(50)"
      ],
      "execution_count": 44,
      "outputs": [
        {
          "output_type": "stream",
          "text": [
            "+--------------------+-------+--------------------+--------------------+----------+\n",
            "|            features|Outcome|       rawPrediction|         probability|prediction|\n",
            "+--------------------+-------+--------------------+--------------------+----------+\n",
            "|[0.0,57.0,60.0,20...|      0|[3.85754286714410...|[0.97931699157477...|       0.0|\n",
            "|[0.0,73.0,69.0,20...|      0|[4.14349110474983...|[0.98438048045931...|       0.0|\n",
            "|[0.0,74.0,52.0,10...|      0|[3.49144580587757...|[0.97044339410820...|       0.0|\n",
            "|[0.0,74.0,52.0,10...|      0|[3.49144580587757...|[0.97044339410820...|       0.0|\n",
            "|[0.0,84.0,64.0,22...|      0|[2.28885514495233...|[0.90794981125212...|       0.0|\n",
            "|[0.0,84.0,82.0,31...|      0|[2.39369336754985...|[0.91634512531398...|       0.0|\n",
            "|[0.0,86.0,68.0,32...|      0|[2.45265728850209...|[0.92075555614798...|       0.0|\n",
            "|[0.0,93.0,60.0,25...|      0|[2.67367370222608...|[0.93545520017079...|       0.0|\n",
            "|[0.0,93.0,60.0,25...|      0|[2.67367370222608...|[0.93545520017079...|       0.0|\n",
            "|[0.0,93.0,100.0,3...|      0|[0.81644558433405...|[0.69348131584652...|       0.0|\n",
            "|[0.0,93.0,100.0,3...|      0|[0.81644558433405...|[0.69348131584652...|       0.0|\n",
            "|[0.0,94.0,69.0,20...|      0|[2.48386368843721...|[0.92300283396433...|       0.0|\n",
            "|[0.0,94.0,69.0,20...|      0|[2.48386368843721...|[0.92300283396433...|       0.0|\n",
            "|[0.0,95.0,64.0,39...|      0|[1.32336194667923...|[0.78974050304357...|       0.0|\n",
            "|[0.0,95.0,80.0,45...|      0|[2.04850399792971...|[0.88579636873508...|       0.0|\n",
            "|[0.0,97.0,64.0,36...|      0|[1.74460734343122...|[0.85127133863449...|       0.0|\n",
            "|[0.0,97.0,64.0,36...|      0|[1.74460734343122...|[0.85127133863449...|       0.0|\n",
            "|[0.0,98.0,82.0,15...|      0|[2.96935797678971...|[0.95117046673433...|       0.0|\n",
            "|[0.0,101.0,62.0,2...|      0|[3.10847594999963...|[0.95724101887558...|       0.0|\n",
            "|[0.0,101.0,76.0,2...|      0|[1.93695222844454...|[0.87401693166395...|       0.0|\n",
            "|[0.0,102.0,64.0,4...|      0|[1.34032245881025...|[0.79254296467234...|       0.0|\n",
            "|[0.0,102.0,75.0,2...|      0|[2.02273275902111...|[0.88316328670679...|       0.0|\n",
            "|[0.0,102.0,75.0,2...|      0|[2.02273275902111...|[0.88316328670679...|       0.0|\n",
            "|[0.0,102.0,78.0,4...|      0|[2.06854780746399...|[0.88780839775831...|       0.0|\n",
            "|[0.0,104.0,64.0,2...|      0|[2.45611529485558...|[0.92100750193248...|       0.0|\n",
            "|[0.0,104.0,64.0,3...|      1|[1.85056524342168...|[0.86419345538382...|       0.0|\n",
            "|[0.0,104.0,76.0,2...|      0|[3.12018284884580...|[0.95771763316276...|       0.0|\n",
            "|[0.0,105.0,64.0,4...|      0|[1.46879306930195...|[0.81287386919487...|       0.0|\n",
            "|[0.0,105.0,84.0,2...|      1|[1.69270651807993...|[0.84457976181888...|       0.0|\n",
            "|[0.0,106.0,70.0,3...|      0|[1.29957839032335...|[0.78576401827340...|       0.0|\n",
            "|[0.0,113.0,80.0,1...|      0|[1.49057400225707...|[0.81616441154643...|       0.0|\n",
            "|[0.0,114.0,80.0,3...|      0|[1.05180635809675...|[0.74112161862604...|       0.0|\n",
            "|[0.0,114.0,80.0,3...|      0|[1.05180635809675...|[0.74112161862604...|       0.0|\n",
            "|[0.0,117.0,66.0,3...|      0|[1.83854853422653...|[0.86277695467771...|       0.0|\n",
            "|[0.0,118.0,64.0,2...|      0|[0.60175791283144...|[0.64605838592123...|       0.0|\n",
            "|[0.0,118.0,64.0,2...|      0|[0.60175791283144...|[0.64605838592123...|       0.0|\n",
            "|[0.0,118.0,64.0,2...|      0|[0.60175791283144...|[0.64605838592123...|       0.0|\n",
            "|[0.0,119.0,64.0,1...|      0|[1.03433393954543...|[0.73775525726027...|       0.0|\n",
            "|[0.0,119.0,66.0,2...|      0|[1.04620260726016...|[0.74004502909010...|       0.0|\n",
            "|[0.0,120.0,74.0,1...|      0|[1.66433809420422...|[0.84081948142049...|       0.0|\n",
            "|[0.0,121.0,66.0,3...|      1|[1.43764067788725...|[0.80808903098671...|       0.0|\n",
            "|[0.0,124.0,56.0,1...|      0|[2.30109309801161...|[0.90896752843653...|       0.0|\n",
            "|[0.0,124.0,56.0,1...|      0|[2.30109309801161...|[0.90896752843653...|       0.0|\n",
            "|[0.0,124.0,70.0,2...|      1|[1.74889487997877...|[0.85181335981444...|       0.0|\n",
            "|[0.0,124.0,70.0,2...|      1|[1.74889487997877...|[0.85181335981444...|       0.0|\n",
            "|[0.0,124.0,70.0,2...|      1|[1.74889487997877...|[0.85181335981444...|       0.0|\n",
            "|[0.0,125.0,68.0,2...|      0|[2.17046845667949...|[0.89756604506607...|       0.0|\n",
            "|[0.0,126.0,84.0,2...|      0|[1.53269973423424...|[0.82240097421971...|       0.0|\n",
            "|[0.0,126.0,84.0,2...|      0|[1.53269973423424...|[0.82240097421971...|       0.0|\n",
            "|[0.0,126.0,86.0,2...|      0|[1.73215952996624...|[0.84968843942440...|       0.0|\n",
            "+--------------------+-------+--------------------+--------------------+----------+\n",
            "only showing top 50 rows\n",
            "\n"
          ],
          "name": "stdout"
        }
      ]
    },
    {
      "cell_type": "code",
      "metadata": {
        "id": "6QoWqoW9pzlL",
        "colab_type": "code",
        "colab": {
          "base_uri": "https://localhost:8080/",
          "height": 34
        },
        "outputId": "7e2ab3db-f885-44f5-f8bc-936099ac1307"
      },
      "source": [
        "evaluator = BinaryClassificationEvaluator(rawPredictionCol='rawPrediction', labelCol='Outcome')\n",
        "evaluator.evaluate(model.transform(test))"
      ],
      "execution_count": 40,
      "outputs": [
        {
          "output_type": "execute_result",
          "data": {
            "text/plain": [
              "0.8407660918783738"
            ]
          },
          "metadata": {
            "tags": []
          },
          "execution_count": 40
        }
      ]
    },
    {
      "cell_type": "code",
      "metadata": {
        "id": "0yuJd0pvq0nM",
        "colab_type": "code",
        "colab": {}
      },
      "source": [
        "model.save(\"model\")"
      ],
      "execution_count": 41,
      "outputs": []
    },
    {
      "cell_type": "code",
      "metadata": {
        "id": "Te_mrTVNrE3q",
        "colab_type": "code",
        "colab": {}
      },
      "source": [
        "from pyspark.ml.classification import LogisticRegressionModel\n",
        "model= LogisticRegressionModel.load('model')"
      ],
      "execution_count": 43,
      "outputs": []
    }
  ]
}